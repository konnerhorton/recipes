{
 "cells": [
  {
   "cell_type": "code",
   "execution_count": 45,
   "metadata": {},
   "outputs": [],
   "source": [
    "import re\n",
    "import frontmatter\n",
    "\n",
    "file = 'docs/Adana Lamb Kebab.md'\n",
    "post = frontmatter.load(file)\n",
    "\n",
    "ingredients_list = [f\"{i[1]} {i[0]} ({i[2]})\" if len(i) > 2 else f\"{i[1]} {i[0]}\" for i in post['ingredients']]\n",
    "ingredients_sting = '- '+'\\n- '.join(ingredients_list)\n",
    "\n",
    "source = post['source']\n",
    "try:\n",
    "    url = post['url']\n",
    "except:\n",
    "    pass\n",
    "\n",
    "def extract_content_between_text(file, start, end):\n",
    "    # Initialize variables to store the extracted content\n",
    "    extracted_content = \"\"\n",
    "\n",
    "    # Flag to indicate whether to start extracting content\n",
    "    extracting = False \n",
    "\n",
    "    # Open the Markdown file for reading\n",
    "    with open(file, \"r\", encoding=\"utf-8\") as md_file:\n",
    "        # Read the file line by line\n",
    "        for line in md_file:\n",
    "            # Check if the line contains \"# Preparation\"\n",
    "            if start in line:\n",
    "                extracting = True  # Start extracting content\n",
    "            # Check if the line contains \"## Notes\"\n",
    "            elif end in line and extracting:\n",
    "                extracting = False  # Stop extracting content\n",
    "                break  # Stop reading further lines\n",
    "            # Continue extracting content if the flag is set\n",
    "            elif extracting:\n",
    "                extracted_content += line\n",
    "    return extracted_content\n",
    "\n",
    "preparation_text = extract_content_between_text(file, \"# Preparation\", '## Notes').strip()\n",
    "\n",
    "if url:\n",
    "    recipe_string = f\"\"\"#{post['recipe']}\\n## Ingredients\\n{ingredients_sting}\\n## Preparation\\n{preparation_text}\\n## Source\\n[{source}]({url})\"\"\"\n",
    "\n",
    "\n",
    "with open('docs/adana-lamb-kebab.md', \"w\", encoding=\"utf-8\") as new_recipe:\n",
    "    new_recipe.write(recipe_string)"
   ]
  }
 ],
 "metadata": {
  "kernelspec": {
   "display_name": "base",
   "language": "python",
   "name": "python3"
  },
  "language_info": {
   "codemirror_mode": {
    "name": "ipython",
    "version": 3
   },
   "file_extension": ".py",
   "mimetype": "text/x-python",
   "name": "python",
   "nbconvert_exporter": "python",
   "pygments_lexer": "ipython3",
   "version": "3.11.5"
  }
 },
 "nbformat": 4,
 "nbformat_minor": 2
}
